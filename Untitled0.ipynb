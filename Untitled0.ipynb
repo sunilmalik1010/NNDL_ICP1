{
  "nbformat": 4,
  "nbformat_minor": 0,
  "metadata": {
    "colab": {
      "provenance": []
    },
    "kernelspec": {
      "name": "python3",
      "display_name": "Python 3"
    },
    "language_info": {
      "name": "python"
    }
  },
  "cells": [
    {
      "cell_type": "code",
      "execution_count": null,
      "metadata": {
        "id": "essrxqYhfsv3"
      },
      "outputs": [],
      "source": []
    },
    {
      "cell_type": "markdown",
      "source": [
        "Write a python program for the following:"
      ],
      "metadata": {
        "id": "LKh9parzgEJq"
      }
    },
    {
      "cell_type": "markdown",
      "source": [
        " Input the string “Python” as a list of characters from console, delete at least 2 characters, reversethe\n",
        "resultant string and print it.\n",
        "Sample input:\n",
        "•python\n",
        "•Sample output:\n",
        "•ntyp\n"
      ],
      "metadata": {
        "id": "MQCBTS36gT82"
      }
    },
    {
      "cell_type": "code",
      "source": [
        "# Task 1: Manipulating Strings\n",
        "input_string = input(\"Enter a string: \")  # Input the string\n",
        "char_list = list(input_string)  # Convert the string to a list of characters\n",
        "\n",
        "if len(char_list) >= 2:  # Ensure there are at least 2 characters to delete\n",
        "    del char_list[-2:]  # Delete the last two characters\n",
        "    char_list.reverse()  # Reverse the list\n",
        "    result = ''.join(char_list)  # Convert the list back to a string\n",
        "    print(\"Modified and reversed string:\", result)\n",
        "else:\n",
        "    print(\"String must have at least 2 characters to perform the operation.\")\n",
        "\n"
      ],
      "metadata": {
        "colab": {
          "base_uri": "https://localhost:8080/"
        },
        "id": "IqJkM1AIgE9I",
        "outputId": "409da4b2-5f17-4c30-b522-e4d3d7e37ccd"
      },
      "execution_count": 4,
      "outputs": [
        {
          "output_type": "stream",
          "name": "stdout",
          "text": [
            "Enter a string: python\n",
            "Modified and reversed string: htyp\n"
          ]
        }
      ]
    },
    {
      "cell_type": "code",
      "source": [
        "# Task 2: Arithmetic Operations\n",
        "num1 = float(input(\"Enter the first number: \"))\n",
        "num2 = float(input(\"Enter the second number: \"))\n",
        "\n",
        "# Perform arithmetic operations\n",
        "addition = num1 + num2\n",
        "subtraction = num1 - num2\n",
        "multiplication = num1 * num2\n",
        "\n",
        "# Check if num2 is not 0 to avoid division by zero\n",
        "if num2 != 0:\n",
        "    division = num1 / num2\n",
        "else:\n",
        "    division = \"Undefined (division by zero)\"\n",
        "\n",
        "print(\"Arithmetic Operations:\")\n",
        "print(\"Addition:\", addition)\n",
        "print(\"Subtraction:\", subtraction)\n",
        "print(\"Multiplication:\", multiplication)\n",
        "print(\"Division:\", division)"
      ],
      "metadata": {
        "colab": {
          "base_uri": "https://localhost:8080/"
        },
        "id": "ChvZMDXCg2DA",
        "outputId": "39f4aa67-572a-476e-c680-82f7a1b40ef4"
      },
      "execution_count": 2,
      "outputs": [
        {
          "output_type": "stream",
          "name": "stdout",
          "text": [
            "Enter the first number: 2\n",
            "Enter the second number: 4\n",
            "Arithmetic Operations:\n",
            "Addition: 6.0\n",
            "Subtraction: -2.0\n",
            "Multiplication: 8.0\n",
            "Division: 0.5\n"
          ]
        }
      ]
    },
    {
      "cell_type": "markdown",
      "source": [
        "Write a program that accepts a sentence and replace each occurrence of ‘python’ with ‘pythons’.\n"
      ],
      "metadata": {
        "id": "FrRw1JyaiBD3"
      }
    },
    {
      "cell_type": "code",
      "source": [
        "def replace_python(sentence):\n",
        "    replaced_sentence = sentence.replace(\"python\", \"pythons\")\n",
        "    return replaced_sentence\n",
        "\n",
        "input_sentence = input(\"Enter a sentence: \")\n",
        "modified_sentence = replace_python(input_sentence)\n",
        "print(\"Modified sentence:\", modified_sentence)\n"
      ],
      "metadata": {
        "colab": {
          "base_uri": "https://localhost:8080/"
        },
        "id": "0NcryBDRiOll",
        "outputId": "dbf69e7f-b135-4a5a-b59a-858d514d2afc"
      },
      "execution_count": 6,
      "outputs": [
        {
          "output_type": "stream",
          "name": "stdout",
          "text": [
            "Enter a sentence: I love playing with python\n",
            "Modified sentence: I love playing with pythons\n"
          ]
        }
      ]
    },
    {
      "cell_type": "markdown",
      "source": [
        "Use the if statement conditions to write a program to print the letter grade based on an input class score. Use the\n",
        "grading scheme we are using in this class."
      ],
      "metadata": {
        "id": "Bo2FXZKwj0Gj"
      }
    },
    {
      "cell_type": "code",
      "source": [
        "def calculate_class_grade(score):\n",
        "    if score >= 90:\n",
        "        return \"A\"\n",
        "    elif score >= 80:\n",
        "        return \"B\"\n",
        "    elif score >= 70:\n",
        "        return \"C\"\n",
        "    elif score >= 60:\n",
        "        return \"D\"\n",
        "    else:\n",
        "        return \"F\"\n",
        "\n",
        "# Get input class score from the user\n",
        "try:\n",
        "    class_score = float(input(\"Enter the class score: \"))\n",
        "    if 0 <= class_score <= 100:\n",
        "        letter_grade = calculate_class_grade(class_score)\n",
        "        print(\"The letter grade for the score {:.2f} is: {}\".format(class_score, letter_grade))\n",
        "    else:\n",
        "        print(\"Invalid score. Please enter a score between 0 and 100.\")\n",
        "except ValueError:\n",
        "    print(\"Invalid input. Please enter a valid number.\")\n"
      ],
      "metadata": {
        "colab": {
          "base_uri": "https://localhost:8080/"
        },
        "id": "XT5kYBD0j1-z",
        "outputId": "eb993024-ed97-43c0-ab0d-8fdfae674d48"
      },
      "execution_count": 7,
      "outputs": [
        {
          "output_type": "stream",
          "name": "stdout",
          "text": [
            "Enter the class score: 90\n",
            "The letter grade for the score 90.00 is: A\n"
          ]
        }
      ]
    }
  ]
}